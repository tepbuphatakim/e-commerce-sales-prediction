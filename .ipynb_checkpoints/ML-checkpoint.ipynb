{
 "cells": [
  {
   "cell_type": "code",
   "execution_count": null,
   "id": "47556576-8234-40b4-83c2-43d9ab3c93fa",
   "metadata": {},
   "outputs": [],
   "source": [
    "# Step 1: Import Required Libraries\n",
    "import pandas as pd\n",
    "import numpy as np\n",
    "import matplotlib.pyplot as plt\n",
    "import seaborn as sns\n",
    "from sklearn.model_selection import train_test_split\n",
    "from sklearn.preprocessing import StandardScaler\n",
    "from sklearn.linear_model import LinearRegression\n",
    "from sklearn.metrics import mean_squared_error, r2_score"
   ]
  },
  {
   "cell_type": "code",
   "execution_count": 4,
   "id": "7d67bd09-98d1-4a9f-b4f4-1500f962473b",
   "metadata": {},
   "outputs": [],
   "source": [
    "# Step 2: Load the Dataset\n",
    "# The Olist dataset consists of multiple CSV files. Start with the main ones:\n",
    "orders_df = pd.read_csv('olist_orders_dataset.csv')\n",
    "order_items_df = pd.read_csv('olist_order_items_dataset.csv')\n",
    "products_df = pd.read_csv('olist_products_dataset.csv')\n",
    "customers_df = pd.read_csv('olist_customers_dataset.csv')"
   ]
  },
  {
   "cell_type": "code",
   "execution_count": 5,
   "id": "b1271fcb-ce1b-4e06-ae7a-6b7aa2e1d152",
   "metadata": {},
   "outputs": [
    {
     "name": "stdout",
     "output_type": "stream",
     "text": [
      "Orders Dataset Shape: (99441, 8)\n",
      "<class 'pandas.core.frame.DataFrame'>\n",
      "RangeIndex: 99441 entries, 0 to 99440\n",
      "Data columns (total 8 columns):\n",
      " #   Column                         Non-Null Count  Dtype \n",
      "---  ------                         --------------  ----- \n",
      " 0   order_id                       99441 non-null  object\n",
      " 1   customer_id                    99441 non-null  object\n",
      " 2   order_status                   99441 non-null  object\n",
      " 3   order_purchase_timestamp       99441 non-null  object\n",
      " 4   order_approved_at              99281 non-null  object\n",
      " 5   order_delivered_carrier_date   97658 non-null  object\n",
      " 6   order_delivered_customer_date  96476 non-null  object\n",
      " 7   order_estimated_delivery_date  99441 non-null  object\n",
      "dtypes: object(8)\n",
      "memory usage: 6.1+ MB\n"
     ]
    },
    {
     "data": {
      "text/plain": [
       "order_id                            0\n",
       "customer_id                         0\n",
       "order_status                        0\n",
       "order_purchase_timestamp            0\n",
       "order_approved_at                 160\n",
       "order_delivered_carrier_date     1783\n",
       "order_delivered_customer_date    2965\n",
       "order_estimated_delivery_date       0\n",
       "dtype: int64"
      ]
     },
     "execution_count": 5,
     "metadata": {},
     "output_type": "execute_result"
    }
   ],
   "source": [
    "# Step 3: Initial Data Exploration\n",
    "# Check the first few rows of each dataset\n",
    "print(\"Orders Dataset Shape:\", orders_df.shape)\n",
    "orders_df.head()\n",
    "\n",
    "# Check basic information about the dataset\n",
    "orders_df.info()\n",
    "\n",
    "# Check for missing values\n",
    "orders_df.isnull().sum()"
   ]
  },
  {
   "cell_type": "code",
   "execution_count": 7,
   "id": "6e555078-2a07-4e3b-8214-b31f63f8d99d",
   "metadata": {},
   "outputs": [],
   "source": [
    "# Step 4: Define Your Target Variable\n",
    "# For this project, we could predict:\n",
    "# 1. Product price\n",
    "# 2. Shipping time (delivery date - purchase date)\n",
    "# 3. Order total value\n",
    "\n",
    "# Example: Let's merge order_items with orders to get total value per order\n",
    "order_analysis = orders_df.merge(order_items_df, on='order_id')"
   ]
  },
  {
   "cell_type": "code",
   "execution_count": 8,
   "id": "221117a7-f11a-4367-baba-1956a1bf2f25",
   "metadata": {},
   "outputs": [],
   "source": [
    "# Step 5: Feature Engineering\n",
    "# Convert date columns to datetime\n",
    "orders_df['order_purchase_timestamp'] = pd.to_datetime(orders_df['order_purchase_timestamp'])\n",
    "orders_df['order_delivered_customer_date'] = pd.to_datetime(orders_df['order_delivered_customer_date'])\n",
    "\n",
    "# Calculate delivery time in days\n",
    "orders_df['delivery_time'] = (orders_df['order_delivered_customer_date'] - \n",
    "                            orders_df['order_purchase_timestamp']).dt.total_seconds() / (24*60*60)"
   ]
  },
  {
   "cell_type": "code",
   "execution_count": 10,
   "id": "82d4576e-9d47-4fc0-ad7a-146d0345dacf",
   "metadata": {},
   "outputs": [
    {
     "data": {
      "image/png": "[encoded data removed]",
      "text/plain": [
       "<Figure size 1000x600 with 1 Axes>"
      ]
     },
     "metadata": {},
     "output_type": "display_data"
    }
   ],
   "source": [
    "# Step 6: Basic Visualization\n",
    "plt.figure(figsize=(10, 6))\n",
    "sns.histplot(data=order_items_df, x='price')\n",
    "plt.title('Distribution of Product Prices')\n",
    "plt.show()"
   ]
  },
  {
   "cell_type": "code",
   "execution_count": 11,
   "id": "094002d9-c3a3-4ddc-a8b1-4fb70db528a9",
   "metadata": {},
   "outputs": [],
   "source": [
    "# Step 7: Prepare Data for Linear Regression\n",
    "# Example: Predicting price based on freight_value and other features\n",
    "X = order_items_df[['freight_value']]  # Add more features as needed\n",
    "y = order_items_df['price']\n",
    "\n",
    "# Split the data\n",
    "X_train, X_test, y_train, y_test = train_test_split(X, y, test_size=0.2, random_state=42)\n",
    "\n",
    "# Scale the features\n",
    "scaler = StandardScaler()\n",
    "X_train_scaled = scaler.fit_transform(X_train)\n",
    "X_test_scaled = scaler.transform(X_test)"
   ]
  },
  {
   "cell_type": "code",
   "execution_count": 12,
   "id": "a5315467-43cc-454c-bde7-a4f421c603fa",
   "metadata": {},
   "outputs": [
    {
     "name": "stdout",
     "output_type": "stream",
     "text": [
      "Mean Squared Error: 29694.463434164194\n",
      "R² Score: 0.1804588299213843\n"
     ]
    }
   ],
   "source": [
    "# Step 8: Train Linear Regression Model\n",
    "model = LinearRegression()\n",
    "model.fit(X_train_scaled, y_train)\n",
    "\n",
    "# Step 9: Make Predictions and Evaluate\n",
    "y_pred = model.predict(X_test_scaled)\n",
    "\n",
    "# Calculate metrics\n",
    "mse = mean_squared_error(y_test, y_pred)\n",
    "r2 = r2_score(y_test, y_pred)\n",
    "\n",
    "print(f'Mean Squared Error: {mse}')\n",
    "print(f'R² Score: {r2}')"
   ]
  },
  {
   "cell_type": "code",
   "execution_count": null,
   "id": "f49f58ff-c1b1-4b34-b422-47d469205476",
   "metadata": {},
   "outputs": [],
   "source": []
  }
 ],
 "metadata": {
  "kernelspec": {
   "display_name": "Python 3 (ipykernel)",
   "language": "python",
   "name": "python3"
  },
  "language_info": {
   "codemirror_mode": {
    "name": "ipython",
    "version": 3
   },
   "file_extension": ".py",
   "mimetype": "text/x-python",
   "name": "python",
   "nbconvert_exporter": "python",
   "pygments_lexer": "ipython3",
   "version": "3.12.4"
  }
 },
 "nbformat": 4,
 "nbformat_minor": 5
}
